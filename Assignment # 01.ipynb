{
 "cells": [
  {
   "cell_type": "code",
   "execution_count": 1,
   "metadata": {},
   "outputs": [
    {
     "name": "stdout",
     "output_type": "stream",
     "text": [
      "Twinkle, twinkle, little star,\n",
      "\t How I wonder what you are! \n",
      "\t\t Up above the world so high, \n",
      "\t\t Like a diamond in the sky, \n",
      "Twinkle twinkle, little star,\n",
      "\t How I wonder what you are,\n"
     ]
    }
   ],
   "source": [
    "a = \"Twinkle, twinkle, little star,\\n\\t How I wonder what you are! \\n\\t\\t Up above the world so high, \\n\\t\\t Like a diamond in the sky, \\nTwinkle twinkle, little star,\\n\\t How I wonder what you are,\"\n",
    "print(a)"
   ]
  },
  {
   "cell_type": "code",
   "execution_count": 2,
   "metadata": {},
   "outputs": [
    {
     "name": "stdout",
     "output_type": "stream",
     "text": [
      "Python version 3.7.4 (default, Aug  9 2019, 18:34:13) [MSC v.1915 64 bit (AMD64)]\n"
     ]
    }
   ],
   "source": [
    "import sys\n",
    "print(\"Python version\",sys.version)"
   ]
  },
  {
   "cell_type": "code",
   "execution_count": 3,
   "metadata": {},
   "outputs": [
    {
     "name": "stdout",
     "output_type": "stream",
     "text": [
      "2019-11-28 19:14:53.342594\n"
     ]
    }
   ],
   "source": [
    "import datetime\n",
    " \n",
    "DT = datetime.datetime.now()\n",
    "print (str(DT))"
   ]
  },
  {
   "cell_type": "code",
   "execution_count": 4,
   "metadata": {},
   "outputs": [
    {
     "name": "stdout",
     "output_type": "stream",
     "text": [
      "Radius Of The Circle : 4\n",
      "Circle With Radius 4.0 is: 50.26548245743669\n"
     ]
    }
   ],
   "source": [
    "from math import pi\n",
    "a = float(input (\"Radius Of The Circle : \"))\n",
    "print (\"Circle With Radius \" + str(a) + \" is: \" + str(pi * a**2))"
   ]
  },
  {
   "cell_type": "code",
   "execution_count": 5,
   "metadata": {},
   "outputs": [
    {
     "name": "stdout",
     "output_type": "stream",
     "text": [
      "first name Sehrish\n",
      "last name Nadeem\n",
      "Nadeem  Sehrish\n"
     ]
    }
   ],
   "source": [
    "a = input(\"first name \")\n",
    "b = input (\"last name \")\n",
    "\n",
    "print (b,\"\",a)"
   ]
  },
  {
   "cell_type": "code",
   "execution_count": 6,
   "metadata": {},
   "outputs": [
    {
     "name": "stdout",
     "output_type": "stream",
     "text": [
      "Enter first Number: 5\n",
      "Enter second Number: 5\n",
      "10\n"
     ]
    }
   ],
   "source": [
    "a = int(input(\"Enter first Number: \"))\n",
    "b = int(input(\"Enter second Number: \"))\n",
    "add = a + b\n",
    "print (add)"
   ]
  },
  {
   "cell_type": "code",
   "execution_count": null,
   "metadata": {},
   "outputs": [],
   "source": []
  }
 ],
 "metadata": {
  "kernelspec": {
   "display_name": "Python 3",
   "language": "python",
   "name": "python3"
  },
  "language_info": {
   "codemirror_mode": {
    "name": "ipython",
    "version": 3
   },
   "file_extension": ".py",
   "mimetype": "text/x-python",
   "name": "python",
   "nbconvert_exporter": "python",
   "pygments_lexer": "ipython3",
   "version": "3.7.4"
  }
 },
 "nbformat": 4,
 "nbformat_minor": 2
}
