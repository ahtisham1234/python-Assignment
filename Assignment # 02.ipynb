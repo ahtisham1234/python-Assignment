{
 "cells": [
  {
   "cell_type": "code",
   "execution_count": 2,
   "metadata": {},
   "outputs": [
    {
     "name": "stdout",
     "output_type": "stream",
     "text": [
      "75\n",
      "75\n",
      "60\n",
      "57\n",
      "87\n",
      "grade B\n"
     ]
    }
   ],
   "source": [
    "#WRITE A PROGRAM WHICH TAKES 5 INPUT FROM USER FOR DIFFERENT SUBJECT'S MARKS,TOTAL IT AND GENERATE MARK SHEET USING GRADES?\n",
    "\n",
    "sub1 = input()\n",
    "sub2 = input()\n",
    "sub3 = input()    \n",
    "sub4 = input()    \n",
    "sub5 = input()   \n",
    "var = [sub1,sub2,sub3,sub4,sub5]\n",
    "obtainted_marks=0\n",
    "count = 0\n",
    "percentage=0\n",
    "\n",
    "for i in var:\n",
    "    try:\n",
    "        float(i)\n",
    "        obtainted_marks += float(i)\n",
    "        count += 1\n",
    "    except ValueError:\n",
    "        print(\"value is not numeric\")\n",
    "        \n",
    "if(count == 5):\n",
    "    percentage=obtainted_marks/500*100\n",
    "if(percentage >= 90):\n",
    "    print(\"grade A+\")\n",
    "elif(percentage >= 80):\n",
    "    print(\"grade A\")\n",
    "elif(percentage >= 70):\n",
    "    print(\"grade B\")\n",
    "elif(percentage >= 60):\n",
    "    print(\"grade C\")\n",
    "else:\n",
    "    print(\"Fail\")\n",
    "    "
   ]
  },
  {
   "cell_type": "code",
   "execution_count": 4,
   "metadata": {},
   "outputs": [
    {
     "name": "stdout",
     "output_type": "stream",
     "text": [
      "Enter any number:5\n",
      "5 is odd\n"
     ]
    }
   ],
   "source": [
    "#Write a program which take input from user and identify that the given number is even or odd?\n",
    "\n",
    "input_num = int(input('Enter any number:'))\n",
    "\n",
    "if(input_num % 2 == 0):\n",
    "    print(input_num, \"is even\")\n",
    "else:\n",
    "    print(input_num, \"is odd\")"
   ]
  },
  {
   "cell_type": "code",
   "execution_count": 5,
   "metadata": {},
   "outputs": [
    {
     "name": "stdout",
     "output_type": "stream",
     "text": [
      "The length of list is  5\n"
     ]
    }
   ],
   "source": [
    "#write a program which print the length of the list?\n",
    "a =[1,2,3,4,8]\n",
    "print(\"The length of list is \", len(a))"
   ]
  },
  {
   "cell_type": "code",
   "execution_count": 6,
   "metadata": {},
   "outputs": [
    {
     "name": "stdout",
     "output_type": "stream",
     "text": [
      "9\n"
     ]
    }
   ],
   "source": [
    "#write a python program to  get the largest number from a numeric list?\n",
    "a =[1,2,7,8,9,3,\"a\",5]\n",
    "sum=0\n",
    "for i in a:\n",
    "    try:\n",
    "        int(i)\n",
    "        if(sum < i ):\n",
    "            sum = int(i)\n",
    "    except ValueError:\n",
    "        continue \n",
    "print(sum)"
   ]
  },
  {
   "cell_type": "code",
   "execution_count": 7,
   "metadata": {},
   "outputs": [
    {
     "name": "stdout",
     "output_type": "stream",
     "text": [
      "1\n",
      "2\n",
      "3\n"
     ]
    }
   ],
   "source": [
    "#Take a List ,And Write a program thats prints out all the element of the list that are less then 5?\n",
    "a =[1,2,7,8,9,3,\"a\",5]\n",
    "sum=0\n",
    "for i in a:\n",
    "    try:\n",
    "        int(i)\n",
    "        if(i < 5 ):\n",
    "            print(int(i))\n",
    "    except ValueError:\n",
    "        continue"
   ]
  },
  {
   "cell_type": "code",
   "execution_count": null,
   "metadata": {},
   "outputs": [],
   "source": []
  }
 ],
 "metadata": {
  "kernelspec": {
   "display_name": "Python 3",
   "language": "python",
   "name": "python3"
  },
  "language_info": {
   "codemirror_mode": {
    "name": "ipython",
    "version": 3
   },
   "file_extension": ".py",
   "mimetype": "text/x-python",
   "name": "python",
   "nbconvert_exporter": "python",
   "pygments_lexer": "ipython3",
   "version": "3.7.4"
  }
 },
 "nbformat": 4,
 "nbformat_minor": 2
}
